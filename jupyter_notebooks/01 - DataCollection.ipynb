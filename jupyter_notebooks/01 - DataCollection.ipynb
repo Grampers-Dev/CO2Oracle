{
 "cells": [
  {
   "cell_type": "markdown",
   "metadata": {},
   "source": [
    "# **Data Collection Notebook**"
   ]
  },
  {
   "cell_type": "markdown",
   "metadata": {},
   "source": [
    "## Objectives\n",
    "\n",
    "* Fetch data from Kaggle and save it as raw data.\n",
    "* Inspect the data and save it under outputs/datasets/collection\n",
    "\n",
    "## Inputs\n",
    "\n",
    "*   Kaggle JSON file - the authentication token.\n",
    "\n",
    "## Outputs\n",
    "\n",
    "* Generate Dataset: outputs/datasets/collection/Co2Emissions.csv\n",
    "\n"
   ]
  },
  {
   "cell_type": "markdown",
   "metadata": {},
   "source": [
    "# Install python packages in the notebooks"
   ]
  },
  {
   "cell_type": "code",
   "execution_count": 5,
   "metadata": {},
   "outputs": [
    {
     "name": "stdout",
     "output_type": "stream",
     "text": [
      "Requirement already satisfied: numpy in c:\\users\\grampers\\appdata\\local\\packages\\pythonsoftwarefoundation.python.3.11_qbz5n2kfra8p0\\localcache\\local-packages\\python311\\site-packages (from -r C:\\Users\\Grampers\\Desktop\\CO2Oracle\\requirements.txt (line 1)) (1.26.4)Note: you may need to restart the kernel to use updated packages.\n",
      "\n",
      "Requirement already satisfied: pandas in c:\\users\\grampers\\appdata\\local\\packages\\pythonsoftwarefoundation.python.3.11_qbz5n2kfra8p0\\localcache\\local-packages\\python311\\site-packages (from -r C:\\Users\\Grampers\\Desktop\\CO2Oracle\\requirements.txt (line 2)) (1.5.3)\n",
      "Requirement already satisfied: matplotlib in c:\\users\\grampers\\appdata\\local\\packages\\pythonsoftwarefoundation.python.3.11_qbz5n2kfra8p0\\localcache\\local-packages\\python311\\site-packages (from -r C:\\Users\\Grampers\\Desktop\\CO2Oracle\\requirements.txt (line 3)) (3.9.1)\n",
      "Requirement already satisfied: seaborn in c:\\users\\grampers\\appdata\\local\\packages\\pythonsoftwarefoundation.python.3.11_qbz5n2kfra8p0\\localcache\\local-packages\\python311\\site-packages (from -r C:\\Users\\Grampers\\Desktop\\CO2Oracle\\requirements.txt (line 4)) (0.13.2)\n",
      "Requirement already satisfied: ydata-profiling in c:\\users\\grampers\\appdata\\local\\packages\\pythonsoftwarefoundation.python.3.11_qbz5n2kfra8p0\\localcache\\local-packages\\python311\\site-packages (from -r C:\\Users\\Grampers\\Desktop\\CO2Oracle\\requirements.txt (line 5)) (4.9.0)\n",
      "Requirement already satisfied: plotly in c:\\users\\grampers\\appdata\\local\\packages\\pythonsoftwarefoundation.python.3.11_qbz5n2kfra8p0\\localcache\\local-packages\\python311\\site-packages (from -r C:\\Users\\Grampers\\Desktop\\CO2Oracle\\requirements.txt (line 6)) (5.23.0)\n",
      "Requirement already satisfied: ppscore in c:\\users\\grampers\\appdata\\local\\packages\\pythonsoftwarefoundation.python.3.11_qbz5n2kfra8p0\\localcache\\local-packages\\python311\\site-packages (from -r C:\\Users\\Grampers\\Desktop\\CO2Oracle\\requirements.txt (line 7)) (1.3.0)\n",
      "Requirement already satisfied: streamlit in c:\\users\\grampers\\appdata\\local\\packages\\pythonsoftwarefoundation.python.3.11_qbz5n2kfra8p0\\localcache\\local-packages\\python311\\site-packages (from -r C:\\Users\\Grampers\\Desktop\\CO2Oracle\\requirements.txt (line 9)) (1.37.0)\n",
      "Requirement already satisfied: feature-engine in c:\\users\\grampers\\appdata\\local\\packages\\pythonsoftwarefoundation.python.3.11_qbz5n2kfra8p0\\localcache\\local-packages\\python311\\site-packages (from -r C:\\Users\\Grampers\\Desktop\\CO2Oracle\\requirements.txt (line 11)) (1.6.2)\n",
      "Requirement already satisfied: imbalanced-learn in c:\\users\\grampers\\appdata\\local\\packages\\pythonsoftwarefoundation.python.3.11_qbz5n2kfra8p0\\localcache\\local-packages\\python311\\site-packages (from -r C:\\Users\\Grampers\\Desktop\\CO2Oracle\\requirements.txt (line 12)) (0.12.3)\n",
      "Requirement already satisfied: scikit-learn in c:\\users\\grampers\\appdata\\local\\packages\\pythonsoftwarefoundation.python.3.11_qbz5n2kfra8p0\\localcache\\local-packages\\python311\\site-packages (from -r C:\\Users\\Grampers\\Desktop\\CO2Oracle\\requirements.txt (line 13)) (1.5.1)\n",
      "Requirement already satisfied: xgboost in c:\\users\\grampers\\appdata\\local\\packages\\pythonsoftwarefoundation.python.3.11_qbz5n2kfra8p0\\localcache\\local-packages\\python311\\site-packages (from -r C:\\Users\\Grampers\\Desktop\\CO2Oracle\\requirements.txt (line 14)) (2.1.1)\n",
      "Requirement already satisfied: yellowbrick in c:\\users\\grampers\\appdata\\local\\packages\\pythonsoftwarefoundation.python.3.11_qbz5n2kfra8p0\\localcache\\local-packages\\python311\\site-packages (from -r C:\\Users\\Grampers\\Desktop\\CO2Oracle\\requirements.txt (line 15)) (1.5)\n",
      "Requirement already satisfied: Jinja2 in c:\\users\\grampers\\appdata\\local\\packages\\pythonsoftwarefoundation.python.3.11_qbz5n2kfra8p0\\localcache\\local-packages\\python311\\site-packages (from -r C:\\Users\\Grampers\\Desktop\\CO2Oracle\\requirements.txt (line 16)) (3.1.4)\n",
      "Requirement already satisfied: MarkupSafe in c:\\users\\grampers\\appdata\\local\\packages\\pythonsoftwarefoundation.python.3.11_qbz5n2kfra8p0\\localcache\\local-packages\\python311\\site-packages (from -r C:\\Users\\Grampers\\Desktop\\CO2Oracle\\requirements.txt (line 17)) (2.1.5)\n",
      "Requirement already satisfied: protobuf in c:\\users\\grampers\\appdata\\local\\packages\\pythonsoftwarefoundation.python.3.11_qbz5n2kfra8p0\\localcache\\local-packages\\python311\\site-packages (from -r C:\\Users\\Grampers\\Desktop\\CO2Oracle\\requirements.txt (line 18)) (4.24.4)\n",
      "Requirement already satisfied: ipywidgets in c:\\users\\grampers\\appdata\\local\\packages\\pythonsoftwarefoundation.python.3.11_qbz5n2kfra8p0\\localcache\\local-packages\\python311\\site-packages (from -r C:\\Users\\Grampers\\Desktop\\CO2Oracle\\requirements.txt (line 19)) (8.1.3)\n",
      "Requirement already satisfied: altair in c:\\users\\grampers\\appdata\\local\\packages\\pythonsoftwarefoundation.python.3.11_qbz5n2kfra8p0\\localcache\\local-packages\\python311\\site-packages (from -r C:\\Users\\Grampers\\Desktop\\CO2Oracle\\requirements.txt (line 20)) (5.3.0)\n",
      "Requirement already satisfied: nbformat>=4.2.0 in c:\\users\\grampers\\appdata\\local\\packages\\pythonsoftwarefoundation.python.3.11_qbz5n2kfra8p0\\localcache\\local-packages\\python311\\site-packages (from -r C:\\Users\\Grampers\\Desktop\\CO2Oracle\\requirements.txt (line 21)) (5.10.4)\n",
      "Requirement already satisfied: python-dateutil>=2.8.1 in c:\\users\\grampers\\appdata\\local\\packages\\pythonsoftwarefoundation.python.3.11_qbz5n2kfra8p0\\localcache\\local-packages\\python311\\site-packages (from pandas->-r C:\\Users\\Grampers\\Desktop\\CO2Oracle\\requirements.txt (line 2)) (2.9.0.post0)\n",
      "Requirement already satisfied: pytz>=2020.1 in c:\\users\\grampers\\appdata\\local\\packages\\pythonsoftwarefoundation.python.3.11_qbz5n2kfra8p0\\localcache\\local-packages\\python311\\site-packages (from pandas->-r C:\\Users\\Grampers\\Desktop\\CO2Oracle\\requirements.txt (line 2)) (2024.1)\n",
      "Requirement already satisfied: contourpy>=1.0.1 in c:\\users\\grampers\\appdata\\local\\packages\\pythonsoftwarefoundation.python.3.11_qbz5n2kfra8p0\\localcache\\local-packages\\python311\\site-packages (from matplotlib->-r C:\\Users\\Grampers\\Desktop\\CO2Oracle\\requirements.txt (line 3)) (1.2.1)\n",
      "Requirement already satisfied: cycler>=0.10 in c:\\users\\grampers\\appdata\\local\\packages\\pythonsoftwarefoundation.python.3.11_qbz5n2kfra8p0\\localcache\\local-packages\\python311\\site-packages (from matplotlib->-r C:\\Users\\Grampers\\Desktop\\CO2Oracle\\requirements.txt (line 3)) (0.12.1)\n",
      "Requirement already satisfied: fonttools>=4.22.0 in c:\\users\\grampers\\appdata\\local\\packages\\pythonsoftwarefoundation.python.3.11_qbz5n2kfra8p0\\localcache\\local-packages\\python311\\site-packages (from matplotlib->-r C:\\Users\\Grampers\\Desktop\\CO2Oracle\\requirements.txt (line 3)) (4.53.1)\n",
      "Requirement already satisfied: kiwisolver>=1.3.1 in c:\\users\\grampers\\appdata\\local\\packages\\pythonsoftwarefoundation.python.3.11_qbz5n2kfra8p0\\localcache\\local-packages\\python311\\site-packages (from matplotlib->-r C:\\Users\\Grampers\\Desktop\\CO2Oracle\\requirements.txt (line 3)) (1.4.5)\n",
      "Requirement already satisfied: packaging>=20.0 in c:\\users\\grampers\\appdata\\local\\packages\\pythonsoftwarefoundation.python.3.11_qbz5n2kfra8p0\\localcache\\local-packages\\python311\\site-packages (from matplotlib->-r C:\\Users\\Grampers\\Desktop\\CO2Oracle\\requirements.txt (line 3)) (24.1)\n",
      "Requirement already satisfied: pillow>=8 in c:\\users\\grampers\\appdata\\local\\packages\\pythonsoftwarefoundation.python.3.11_qbz5n2kfra8p0\\localcache\\local-packages\\python311\\site-packages (from matplotlib->-r C:\\Users\\Grampers\\Desktop\\CO2Oracle\\requirements.txt (line 3)) (10.4.0)\n",
      "Requirement already satisfied: pyparsing>=2.3.1 in c:\\users\\grampers\\appdata\\local\\packages\\pythonsoftwarefoundation.python.3.11_qbz5n2kfra8p0\\localcache\\local-packages\\python311\\site-packages (from matplotlib->-r C:\\Users\\Grampers\\Desktop\\CO2Oracle\\requirements.txt (line 3)) (3.1.2)\n",
      "Requirement already satisfied: scipy<1.14,>=1.4.1 in c:\\users\\grampers\\appdata\\local\\packages\\pythonsoftwarefoundation.python.3.11_qbz5n2kfra8p0\\localcache\\local-packages\\python311\\site-packages (from ydata-profiling->-r C:\\Users\\Grampers\\Desktop\\CO2Oracle\\requirements.txt (line 5)) (1.13.1)\n",
      "Requirement already satisfied: pydantic>=2 in c:\\users\\grampers\\appdata\\local\\packages\\pythonsoftwarefoundation.python.3.11_qbz5n2kfra8p0\\localcache\\local-packages\\python311\\site-packages (from ydata-profiling->-r C:\\Users\\Grampers\\Desktop\\CO2Oracle\\requirements.txt (line 5)) (2.8.2)\n",
      "Requirement already satisfied: PyYAML<6.1,>=5.0.0 in c:\\users\\grampers\\appdata\\local\\packages\\pythonsoftwarefoundation.python.3.11_qbz5n2kfra8p0\\localcache\\local-packages\\python311\\site-packages (from ydata-profiling->-r C:\\Users\\Grampers\\Desktop\\CO2Oracle\\requirements.txt (line 5)) (6.0.1)\n",
      "Requirement already satisfied: visions<0.7.7,>=0.7.5 in c:\\users\\grampers\\appdata\\local\\packages\\pythonsoftwarefoundation.python.3.11_qbz5n2kfra8p0\\localcache\\local-packages\\python311\\site-packages (from visions[type_image_path]<0.7.7,>=0.7.5->ydata-profiling->-r C:\\Users\\Grampers\\Desktop\\CO2Oracle\\requirements.txt (line 5)) (0.7.5)\n",
      "Requirement already satisfied: htmlmin==0.1.12 in c:\\users\\grampers\\appdata\\local\\packages\\pythonsoftwarefoundation.python.3.11_qbz5n2kfra8p0\\localcache\\local-packages\\python311\\site-packages (from ydata-profiling->-r C:\\Users\\Grampers\\Desktop\\CO2Oracle\\requirements.txt (line 5)) (0.1.12)\n",
      "Requirement already satisfied: phik<0.13,>=0.11.1 in c:\\users\\grampers\\appdata\\local\\packages\\pythonsoftwarefoundation.python.3.11_qbz5n2kfra8p0\\localcache\\local-packages\\python311\\site-packages (from ydata-profiling->-r C:\\Users\\Grampers\\Desktop\\CO2Oracle\\requirements.txt (line 5)) (0.12.4)\n",
      "Requirement already satisfied: requests<3,>=2.24.0 in c:\\users\\grampers\\appdata\\local\\packages\\pythonsoftwarefoundation.python.3.11_qbz5n2kfra8p0\\localcache\\local-packages\\python311\\site-packages (from ydata-profiling->-r C:\\Users\\Grampers\\Desktop\\CO2Oracle\\requirements.txt (line 5)) (2.31.0)\n",
      "Requirement already satisfied: tqdm<5,>=4.48.2 in c:\\users\\grampers\\appdata\\local\\packages\\pythonsoftwarefoundation.python.3.11_qbz5n2kfra8p0\\localcache\\local-packages\\python311\\site-packages (from ydata-profiling->-r C:\\Users\\Grampers\\Desktop\\CO2Oracle\\requirements.txt (line 5)) (4.66.4)\n",
      "Requirement already satisfied: multimethod<2,>=1.4 in c:\\users\\grampers\\appdata\\local\\packages\\pythonsoftwarefoundation.python.3.11_qbz5n2kfra8p0\\localcache\\local-packages\\python311\\site-packages (from ydata-profiling->-r C:\\Users\\Grampers\\Desktop\\CO2Oracle\\requirements.txt (line 5)) (1.12)\n",
      "Requirement already satisfied: statsmodels<1,>=0.13.2 in c:\\users\\grampers\\appdata\\local\\packages\\pythonsoftwarefoundation.python.3.11_qbz5n2kfra8p0\\localcache\\local-packages\\python311\\site-packages (from ydata-profiling->-r C:\\Users\\Grampers\\Desktop\\CO2Oracle\\requirements.txt (line 5)) (0.14.2)\n",
      "Requirement already satisfied: typeguard<5,>=3 in c:\\users\\grampers\\appdata\\local\\packages\\pythonsoftwarefoundation.python.3.11_qbz5n2kfra8p0\\localcache\\local-packages\\python311\\site-packages (from ydata-profiling->-r C:\\Users\\Grampers\\Desktop\\CO2Oracle\\requirements.txt (line 5)) (4.3.0)\n",
      "Requirement already satisfied: imagehash==4.3.1 in c:\\users\\grampers\\appdata\\local\\packages\\pythonsoftwarefoundation.python.3.11_qbz5n2kfra8p0\\localcache\\local-packages\\python311\\site-packages (from ydata-profiling->-r C:\\Users\\Grampers\\Desktop\\CO2Oracle\\requirements.txt (line 5)) (4.3.1)\n",
      "Requirement already satisfied: wordcloud>=1.9.1 in c:\\users\\grampers\\appdata\\local\\packages\\pythonsoftwarefoundation.python.3.11_qbz5n2kfra8p0\\localcache\\local-packages\\python311\\site-packages (from ydata-profiling->-r C:\\Users\\Grampers\\Desktop\\CO2Oracle\\requirements.txt (line 5)) (1.9.3)\n",
      "Requirement already satisfied: dacite>=1.8 in c:\\users\\grampers\\appdata\\local\\packages\\pythonsoftwarefoundation.python.3.11_qbz5n2kfra8p0\\localcache\\local-packages\\python311\\site-packages (from ydata-profiling->-r C:\\Users\\Grampers\\Desktop\\CO2Oracle\\requirements.txt (line 5)) (1.8.1)\n",
      "Requirement already satisfied: numba<1,>=0.56.0 in c:\\users\\grampers\\appdata\\local\\packages\\pythonsoftwarefoundation.python.3.11_qbz5n2kfra8p0\\localcache\\local-packages\\python311\\site-packages (from ydata-profiling->-r C:\\Users\\Grampers\\Desktop\\CO2Oracle\\requirements.txt (line 5)) (0.60.0)\n",
      "Requirement already satisfied: PyWavelets in c:\\users\\grampers\\appdata\\local\\packages\\pythonsoftwarefoundation.python.3.11_qbz5n2kfra8p0\\localcache\\local-packages\\python311\\site-packages (from imagehash==4.3.1->ydata-profiling->-r C:\\Users\\Grampers\\Desktop\\CO2Oracle\\requirements.txt (line 5)) (1.6.0)\n",
      "Requirement already satisfied: tenacity>=6.2.0 in c:\\users\\grampers\\appdata\\local\\packages\\pythonsoftwarefoundation.python.3.11_qbz5n2kfra8p0\\localcache\\local-packages\\python311\\site-packages (from plotly->-r C:\\Users\\Grampers\\Desktop\\CO2Oracle\\requirements.txt (line 6)) (8.5.0)\n",
      "Requirement already satisfied: blinker<2,>=1.0.0 in c:\\users\\grampers\\appdata\\local\\packages\\pythonsoftwarefoundation.python.3.11_qbz5n2kfra8p0\\localcache\\local-packages\\python311\\site-packages (from streamlit->-r C:\\Users\\Grampers\\Desktop\\CO2Oracle\\requirements.txt (line 9)) (1.8.2)\n",
      "Requirement already satisfied: cachetools<6,>=4.0 in c:\\users\\grampers\\appdata\\local\\packages\\pythonsoftwarefoundation.python.3.11_qbz5n2kfra8p0\\localcache\\local-packages\\python311\\site-packages (from streamlit->-r C:\\Users\\Grampers\\Desktop\\CO2Oracle\\requirements.txt (line 9)) (5.4.0)\n",
      "Requirement already satisfied: click<9,>=7.0 in c:\\users\\grampers\\appdata\\local\\packages\\pythonsoftwarefoundation.python.3.11_qbz5n2kfra8p0\\localcache\\local-packages\\python311\\site-packages (from streamlit->-r C:\\Users\\Grampers\\Desktop\\CO2Oracle\\requirements.txt (line 9)) (8.1.7)\n",
      "Requirement already satisfied: pyarrow>=7.0 in c:\\users\\grampers\\appdata\\local\\packages\\pythonsoftwarefoundation.python.3.11_qbz5n2kfra8p0\\localcache\\local-packages\\python311\\site-packages (from streamlit->-r C:\\Users\\Grampers\\Desktop\\CO2Oracle\\requirements.txt (line 9)) (17.0.0)\n",
      "Requirement already satisfied: rich<14,>=10.14.0 in c:\\users\\grampers\\appdata\\local\\packages\\pythonsoftwarefoundation.python.3.11_qbz5n2kfra8p0\\localcache\\local-packages\\python311\\site-packages (from streamlit->-r C:\\Users\\Grampers\\Desktop\\CO2Oracle\\requirements.txt (line 9)) (13.7.1)\n",
      "Requirement already satisfied: toml<2,>=0.10.1 in c:\\users\\grampers\\appdata\\local\\packages\\pythonsoftwarefoundation.python.3.11_qbz5n2kfra8p0\\localcache\\local-packages\\python311\\site-packages (from streamlit->-r C:\\Users\\Grampers\\Desktop\\CO2Oracle\\requirements.txt (line 9)) (0.10.2)\n",
      "Requirement already satisfied: typing-extensions<5,>=4.3.0 in c:\\users\\grampers\\appdata\\local\\packages\\pythonsoftwarefoundation.python.3.11_qbz5n2kfra8p0\\localcache\\local-packages\\python311\\site-packages (from streamlit->-r C:\\Users\\Grampers\\Desktop\\CO2Oracle\\requirements.txt (line 9)) (4.10.0)\n",
      "Requirement already satisfied: gitpython!=3.1.19,<4,>=3.0.7 in c:\\users\\grampers\\appdata\\local\\packages\\pythonsoftwarefoundation.python.3.11_qbz5n2kfra8p0\\localcache\\local-packages\\python311\\site-packages (from streamlit->-r C:\\Users\\Grampers\\Desktop\\CO2Oracle\\requirements.txt (line 9)) (3.1.43)\n",
      "Requirement already satisfied: pydeck<1,>=0.8.0b4 in c:\\users\\grampers\\appdata\\local\\packages\\pythonsoftwarefoundation.python.3.11_qbz5n2kfra8p0\\localcache\\local-packages\\python311\\site-packages (from streamlit->-r C:\\Users\\Grampers\\Desktop\\CO2Oracle\\requirements.txt (line 9)) (0.9.1)\n",
      "Requirement already satisfied: tornado<7,>=6.0.3 in c:\\users\\grampers\\appdata\\local\\packages\\pythonsoftwarefoundation.python.3.11_qbz5n2kfra8p0\\localcache\\local-packages\\python311\\site-packages (from streamlit->-r C:\\Users\\Grampers\\Desktop\\CO2Oracle\\requirements.txt (line 9)) (6.4.1)\n",
      "Requirement already satisfied: watchdog<5,>=2.1.5 in c:\\users\\grampers\\appdata\\local\\packages\\pythonsoftwarefoundation.python.3.11_qbz5n2kfra8p0\\localcache\\local-packages\\python311\\site-packages (from streamlit->-r C:\\Users\\Grampers\\Desktop\\CO2Oracle\\requirements.txt (line 9)) (4.0.1)\n",
      "Requirement already satisfied: joblib>=1.1.1 in c:\\users\\grampers\\appdata\\local\\packages\\pythonsoftwarefoundation.python.3.11_qbz5n2kfra8p0\\localcache\\local-packages\\python311\\site-packages (from imbalanced-learn->-r C:\\Users\\Grampers\\Desktop\\CO2Oracle\\requirements.txt (line 12)) (1.4.2)\n",
      "Requirement already satisfied: threadpoolctl>=2.0.0 in c:\\users\\grampers\\appdata\\local\\packages\\pythonsoftwarefoundation.python.3.11_qbz5n2kfra8p0\\localcache\\local-packages\\python311\\site-packages (from imbalanced-learn->-r C:\\Users\\Grampers\\Desktop\\CO2Oracle\\requirements.txt (line 12)) (3.5.0)\n",
      "Requirement already satisfied: comm>=0.1.3 in c:\\users\\grampers\\appdata\\local\\packages\\pythonsoftwarefoundation.python.3.11_qbz5n2kfra8p0\\localcache\\local-packages\\python311\\site-packages (from ipywidgets->-r C:\\Users\\Grampers\\Desktop\\CO2Oracle\\requirements.txt (line 19)) (0.2.2)\n",
      "Requirement already satisfied: ipython>=6.1.0 in c:\\users\\grampers\\appdata\\local\\packages\\pythonsoftwarefoundation.python.3.11_qbz5n2kfra8p0\\localcache\\local-packages\\python311\\site-packages (from ipywidgets->-r C:\\Users\\Grampers\\Desktop\\CO2Oracle\\requirements.txt (line 19)) (8.26.0)\n",
      "Requirement already satisfied: traitlets>=4.3.1 in c:\\users\\grampers\\appdata\\local\\packages\\pythonsoftwarefoundation.python.3.11_qbz5n2kfra8p0\\localcache\\local-packages\\python311\\site-packages (from ipywidgets->-r C:\\Users\\Grampers\\Desktop\\CO2Oracle\\requirements.txt (line 19)) (5.14.3)\n",
      "Requirement already satisfied: widgetsnbextension~=4.0.11 in c:\\users\\grampers\\appdata\\local\\packages\\pythonsoftwarefoundation.python.3.11_qbz5n2kfra8p0\\localcache\\local-packages\\python311\\site-packages (from ipywidgets->-r C:\\Users\\Grampers\\Desktop\\CO2Oracle\\requirements.txt (line 19)) (4.0.11)\n",
      "Requirement already satisfied: jupyterlab-widgets~=3.0.11 in c:\\users\\grampers\\appdata\\local\\packages\\pythonsoftwarefoundation.python.3.11_qbz5n2kfra8p0\\localcache\\local-packages\\python311\\site-packages (from ipywidgets->-r C:\\Users\\Grampers\\Desktop\\CO2Oracle\\requirements.txt (line 19)) (3.0.11)\n",
      "Requirement already satisfied: jsonschema>=3.0 in c:\\users\\grampers\\appdata\\local\\packages\\pythonsoftwarefoundation.python.3.11_qbz5n2kfra8p0\\localcache\\local-packages\\python311\\site-packages (from altair->-r C:\\Users\\Grampers\\Desktop\\CO2Oracle\\requirements.txt (line 20)) (4.21.1)\n",
      "Requirement already satisfied: toolz in c:\\users\\grampers\\appdata\\local\\packages\\pythonsoftwarefoundation.python.3.11_qbz5n2kfra8p0\\localcache\\local-packages\\python311\\site-packages (from altair->-r C:\\Users\\Grampers\\Desktop\\CO2Oracle\\requirements.txt (line 20)) (0.12.0)\n",
      "Requirement already satisfied: fastjsonschema>=2.15 in c:\\users\\grampers\\appdata\\local\\packages\\pythonsoftwarefoundation.python.3.11_qbz5n2kfra8p0\\localcache\\local-packages\\python311\\site-packages (from nbformat>=4.2.0->-r C:\\Users\\Grampers\\Desktop\\CO2Oracle\\requirements.txt (line 21)) (2.20.0)\n",
      "Requirement already satisfied: jupyter-core!=5.0.*,>=4.12 in c:\\users\\grampers\\appdata\\local\\packages\\pythonsoftwarefoundation.python.3.11_qbz5n2kfra8p0\\localcache\\local-packages\\python311\\site-packages (from nbformat>=4.2.0->-r C:\\Users\\Grampers\\Desktop\\CO2Oracle\\requirements.txt (line 21)) (5.7.2)\n",
      "Requirement already satisfied: colorama in c:\\users\\grampers\\appdata\\local\\packages\\pythonsoftwarefoundation.python.3.11_qbz5n2kfra8p0\\localcache\\local-packages\\python311\\site-packages (from click<9,>=7.0->streamlit->-r C:\\Users\\Grampers\\Desktop\\CO2Oracle\\requirements.txt (line 9)) (0.4.6)\n",
      "Requirement already satisfied: gitdb<5,>=4.0.1 in c:\\users\\grampers\\appdata\\local\\packages\\pythonsoftwarefoundation.python.3.11_qbz5n2kfra8p0\\localcache\\local-packages\\python311\\site-packages (from gitpython!=3.1.19,<4,>=3.0.7->streamlit->-r C:\\Users\\Grampers\\Desktop\\CO2Oracle\\requirements.txt (line 9)) (4.0.11)\n",
      "Requirement already satisfied: decorator in c:\\users\\grampers\\appdata\\local\\packages\\pythonsoftwarefoundation.python.3.11_qbz5n2kfra8p0\\localcache\\local-packages\\python311\\site-packages (from ipython>=6.1.0->ipywidgets->-r C:\\Users\\Grampers\\Desktop\\CO2Oracle\\requirements.txt (line 19)) (5.1.1)\n",
      "Requirement already satisfied: jedi>=0.16 in c:\\users\\grampers\\appdata\\local\\packages\\pythonsoftwarefoundation.python.3.11_qbz5n2kfra8p0\\localcache\\local-packages\\python311\\site-packages (from ipython>=6.1.0->ipywidgets->-r C:\\Users\\Grampers\\Desktop\\CO2Oracle\\requirements.txt (line 19)) (0.19.1)\n",
      "Requirement already satisfied: matplotlib-inline in c:\\users\\grampers\\appdata\\local\\packages\\pythonsoftwarefoundation.python.3.11_qbz5n2kfra8p0\\localcache\\local-packages\\python311\\site-packages (from ipython>=6.1.0->ipywidgets->-r C:\\Users\\Grampers\\Desktop\\CO2Oracle\\requirements.txt (line 19)) (0.1.7)\n",
      "Requirement already satisfied: prompt-toolkit<3.1.0,>=3.0.41 in c:\\users\\grampers\\appdata\\local\\packages\\pythonsoftwarefoundation.python.3.11_qbz5n2kfra8p0\\localcache\\local-packages\\python311\\site-packages (from ipython>=6.1.0->ipywidgets->-r C:\\Users\\Grampers\\Desktop\\CO2Oracle\\requirements.txt (line 19)) (3.0.47)\n",
      "Requirement already satisfied: pygments>=2.4.0 in c:\\users\\grampers\\appdata\\local\\packages\\pythonsoftwarefoundation.python.3.11_qbz5n2kfra8p0\\localcache\\local-packages\\python311\\site-packages (from ipython>=6.1.0->ipywidgets->-r C:\\Users\\Grampers\\Desktop\\CO2Oracle\\requirements.txt (line 19)) (2.18.0)\n",
      "Requirement already satisfied: stack-data in c:\\users\\grampers\\appdata\\local\\packages\\pythonsoftwarefoundation.python.3.11_qbz5n2kfra8p0\\localcache\\local-packages\\python311\\site-packages (from ipython>=6.1.0->ipywidgets->-r C:\\Users\\Grampers\\Desktop\\CO2Oracle\\requirements.txt (line 19)) (0.6.3)\n",
      "Requirement already satisfied: attrs>=22.2.0 in c:\\users\\grampers\\appdata\\local\\packages\\pythonsoftwarefoundation.python.3.11_qbz5n2kfra8p0\\localcache\\local-packages\\python311\\site-packages (from jsonschema>=3.0->altair->-r C:\\Users\\Grampers\\Desktop\\CO2Oracle\\requirements.txt (line 20)) (23.2.0)\n",
      "Requirement already satisfied: jsonschema-specifications>=2023.03.6 in c:\\users\\grampers\\appdata\\local\\packages\\pythonsoftwarefoundation.python.3.11_qbz5n2kfra8p0\\localcache\\local-packages\\python311\\site-packages (from jsonschema>=3.0->altair->-r C:\\Users\\Grampers\\Desktop\\CO2Oracle\\requirements.txt (line 20)) (2023.12.1)\n",
      "Requirement already satisfied: referencing>=0.28.4 in c:\\users\\grampers\\appdata\\local\\packages\\pythonsoftwarefoundation.python.3.11_qbz5n2kfra8p0\\localcache\\local-packages\\python311\\site-packages (from jsonschema>=3.0->altair->-r C:\\Users\\Grampers\\Desktop\\CO2Oracle\\requirements.txt (line 20)) (0.34.0)\n",
      "Requirement already satisfied: rpds-py>=0.7.1 in c:\\users\\grampers\\appdata\\local\\packages\\pythonsoftwarefoundation.python.3.11_qbz5n2kfra8p0\\localcache\\local-packages\\python311\\site-packages (from jsonschema>=3.0->altair->-r C:\\Users\\Grampers\\Desktop\\CO2Oracle\\requirements.txt (line 20)) (0.18.0)\n",
      "Requirement already satisfied: platformdirs>=2.5 in c:\\users\\grampers\\appdata\\local\\packages\\pythonsoftwarefoundation.python.3.11_qbz5n2kfra8p0\\localcache\\local-packages\\python311\\site-packages (from jupyter-core!=5.0.*,>=4.12->nbformat>=4.2.0->-r C:\\Users\\Grampers\\Desktop\\CO2Oracle\\requirements.txt (line 21)) (4.2.0)\n",
      "Requirement already satisfied: pywin32>=300 in c:\\users\\grampers\\appdata\\local\\packages\\pythonsoftwarefoundation.python.3.11_qbz5n2kfra8p0\\localcache\\local-packages\\python311\\site-packages (from jupyter-core!=5.0.*,>=4.12->nbformat>=4.2.0->-r C:\\Users\\Grampers\\Desktop\\CO2Oracle\\requirements.txt (line 21)) (306)\n",
      "Requirement already satisfied: llvmlite<0.44,>=0.43.0dev0 in c:\\users\\grampers\\appdata\\local\\packages\\pythonsoftwarefoundation.python.3.11_qbz5n2kfra8p0\\localcache\\local-packages\\python311\\site-packages (from numba<1,>=0.56.0->ydata-profiling->-r C:\\Users\\Grampers\\Desktop\\CO2Oracle\\requirements.txt (line 5)) (0.43.0)\n",
      "Requirement already satisfied: annotated-types>=0.4.0 in c:\\users\\grampers\\appdata\\local\\packages\\pythonsoftwarefoundation.python.3.11_qbz5n2kfra8p0\\localcache\\local-packages\\python311\\site-packages (from pydantic>=2->ydata-profiling->-r C:\\Users\\Grampers\\Desktop\\CO2Oracle\\requirements.txt (line 5)) (0.7.0)\n",
      "Requirement already satisfied: pydantic-core==2.20.1 in c:\\users\\grampers\\appdata\\local\\packages\\pythonsoftwarefoundation.python.3.11_qbz5n2kfra8p0\\localcache\\local-packages\\python311\\site-packages (from pydantic>=2->ydata-profiling->-r C:\\Users\\Grampers\\Desktop\\CO2Oracle\\requirements.txt (line 5)) (2.20.1)\n",
      "Requirement already satisfied: six>=1.5 in c:\\users\\grampers\\appdata\\local\\packages\\pythonsoftwarefoundation.python.3.11_qbz5n2kfra8p0\\localcache\\local-packages\\python311\\site-packages (from python-dateutil>=2.8.1->pandas->-r C:\\Users\\Grampers\\Desktop\\CO2Oracle\\requirements.txt (line 2)) (1.16.0)\n",
      "Requirement already satisfied: charset-normalizer<4,>=2 in c:\\users\\grampers\\appdata\\local\\packages\\pythonsoftwarefoundation.python.3.11_qbz5n2kfra8p0\\localcache\\local-packages\\python311\\site-packages (from requests<3,>=2.24.0->ydata-profiling->-r C:\\Users\\Grampers\\Desktop\\CO2Oracle\\requirements.txt (line 5)) (3.3.2)\n",
      "Requirement already satisfied: idna<4,>=2.5 in c:\\users\\grampers\\appdata\\local\\packages\\pythonsoftwarefoundation.python.3.11_qbz5n2kfra8p0\\localcache\\local-packages\\python311\\site-packages (from requests<3,>=2.24.0->ydata-profiling->-r C:\\Users\\Grampers\\Desktop\\CO2Oracle\\requirements.txt (line 5)) (3.6)\n",
      "Requirement already satisfied: urllib3<3,>=1.21.1 in c:\\users\\grampers\\appdata\\local\\packages\\pythonsoftwarefoundation.python.3.11_qbz5n2kfra8p0\\localcache\\local-packages\\python311\\site-packages (from requests<3,>=2.24.0->ydata-profiling->-r C:\\Users\\Grampers\\Desktop\\CO2Oracle\\requirements.txt (line 5)) (2.2.1)\n",
      "Requirement already satisfied: certifi>=2017.4.17 in c:\\users\\grampers\\appdata\\local\\packages\\pythonsoftwarefoundation.python.3.11_qbz5n2kfra8p0\\localcache\\local-packages\\python311\\site-packages (from requests<3,>=2.24.0->ydata-profiling->-r C:\\Users\\Grampers\\Desktop\\CO2Oracle\\requirements.txt (line 5)) (2024.2.2)\n",
      "Requirement already satisfied: markdown-it-py>=2.2.0 in c:\\users\\grampers\\appdata\\local\\packages\\pythonsoftwarefoundation.python.3.11_qbz5n2kfra8p0\\localcache\\local-packages\\python311\\site-packages (from rich<14,>=10.14.0->streamlit->-r C:\\Users\\Grampers\\Desktop\\CO2Oracle\\requirements.txt (line 9)) (3.0.0)\n",
      "Requirement already satisfied: patsy>=0.5.6 in c:\\users\\grampers\\appdata\\local\\packages\\pythonsoftwarefoundation.python.3.11_qbz5n2kfra8p0\\localcache\\local-packages\\python311\\site-packages (from statsmodels<1,>=0.13.2->ydata-profiling->-r C:\\Users\\Grampers\\Desktop\\CO2Oracle\\requirements.txt (line 5)) (0.5.6)\n",
      "Requirement already satisfied: networkx>=2.4 in c:\\users\\grampers\\appdata\\local\\packages\\pythonsoftwarefoundation.python.3.11_qbz5n2kfra8p0\\localcache\\local-packages\\python311\\site-packages (from visions<0.7.7,>=0.7.5->visions[type_image_path]<0.7.7,>=0.7.5->ydata-profiling->-r C:\\Users\\Grampers\\Desktop\\CO2Oracle\\requirements.txt (line 5)) (3.3)\n",
      "Requirement already satisfied: tangled-up-in-unicode>=0.0.4 in c:\\users\\grampers\\appdata\\local\\packages\\pythonsoftwarefoundation.python.3.11_qbz5n2kfra8p0\\localcache\\local-packages\\python311\\site-packages (from visions<0.7.7,>=0.7.5->visions[type_image_path]<0.7.7,>=0.7.5->ydata-profiling->-r C:\\Users\\Grampers\\Desktop\\CO2Oracle\\requirements.txt (line 5)) (0.2.0)\n",
      "Requirement already satisfied: smmap<6,>=3.0.1 in c:\\users\\grampers\\appdata\\local\\packages\\pythonsoftwarefoundation.python.3.11_qbz5n2kfra8p0\\localcache\\local-packages\\python311\\site-packages (from gitdb<5,>=4.0.1->gitpython!=3.1.19,<4,>=3.0.7->streamlit->-r C:\\Users\\Grampers\\Desktop\\CO2Oracle\\requirements.txt (line 9)) (5.0.1)\n",
      "Requirement already satisfied: parso<0.9.0,>=0.8.3 in c:\\users\\grampers\\appdata\\local\\packages\\pythonsoftwarefoundation.python.3.11_qbz5n2kfra8p0\\localcache\\local-packages\\python311\\site-packages (from jedi>=0.16->ipython>=6.1.0->ipywidgets->-r C:\\Users\\Grampers\\Desktop\\CO2Oracle\\requirements.txt (line 19)) (0.8.4)\n",
      "Requirement already satisfied: mdurl~=0.1 in c:\\users\\grampers\\appdata\\local\\packages\\pythonsoftwarefoundation.python.3.11_qbz5n2kfra8p0\\localcache\\local-packages\\python311\\site-packages (from markdown-it-py>=2.2.0->rich<14,>=10.14.0->streamlit->-r C:\\Users\\Grampers\\Desktop\\CO2Oracle\\requirements.txt (line 9)) (0.1.2)\n",
      "Requirement already satisfied: wcwidth in c:\\users\\grampers\\appdata\\local\\packages\\pythonsoftwarefoundation.python.3.11_qbz5n2kfra8p0\\localcache\\local-packages\\python311\\site-packages (from prompt-toolkit<3.1.0,>=3.0.41->ipython>=6.1.0->ipywidgets->-r C:\\Users\\Grampers\\Desktop\\CO2Oracle\\requirements.txt (line 19)) (0.2.13)\n",
      "Requirement already satisfied: executing>=1.2.0 in c:\\users\\grampers\\appdata\\local\\packages\\pythonsoftwarefoundation.python.3.11_qbz5n2kfra8p0\\localcache\\local-packages\\python311\\site-packages (from stack-data->ipython>=6.1.0->ipywidgets->-r C:\\Users\\Grampers\\Desktop\\CO2Oracle\\requirements.txt (line 19)) (2.0.1)\n",
      "Requirement already satisfied: asttokens>=2.1.0 in c:\\users\\grampers\\appdata\\local\\packages\\pythonsoftwarefoundation.python.3.11_qbz5n2kfra8p0\\localcache\\local-packages\\python311\\site-packages (from stack-data->ipython>=6.1.0->ipywidgets->-r C:\\Users\\Grampers\\Desktop\\CO2Oracle\\requirements.txt (line 19)) (2.4.1)\n",
      "Requirement already satisfied: pure-eval in c:\\users\\grampers\\appdata\\local\\packages\\pythonsoftwarefoundation.python.3.11_qbz5n2kfra8p0\\localcache\\local-packages\\python311\\site-packages (from stack-data->ipython>=6.1.0->ipywidgets->-r C:\\Users\\Grampers\\Desktop\\CO2Oracle\\requirements.txt (line 19)) (0.2.3)\n"
     ]
    },
    {
     "name": "stderr",
     "output_type": "stream",
     "text": [
      "\n",
      "[notice] A new release of pip is available: 24.0 -> 24.2\n",
      "[notice] To update, run: C:\\Users\\Grampers\\AppData\\Local\\Microsoft\\WindowsApps\\PythonSoftwareFoundation.Python.3.11_qbz5n2kfra8p0\\python.exe -m pip install --upgrade pip\n"
     ]
    }
   ],
   "source": [
    "%pip install -r C:\\Users\\Grampers\\Desktop\\CO2Oracle\\requirements.txt"
   ]
  },
  {
   "cell_type": "markdown",
   "metadata": {},
   "source": [
    "# Change working directory"
   ]
  },
  {
   "cell_type": "markdown",
   "metadata": {},
   "source": [
    "We need to change the working directory from its current folder to its parent folder\n",
    "-    We access the current directory with os.getcwd()"
   ]
  },
  {
   "cell_type": "code",
   "execution_count": 6,
   "metadata": {},
   "outputs": [
    {
     "data": {
      "text/plain": [
       "'c:\\\\Users\\\\Grampers\\\\Desktop\\\\CO2Oracle\\\\jupyter_notebooks'"
      ]
     },
     "execution_count": 6,
     "metadata": {},
     "output_type": "execute_result"
    }
   ],
   "source": [
    "import os\n",
    "current_dir = os.getcwd()\n",
    "current_dir"
   ]
  },
  {
   "cell_type": "markdown",
   "metadata": {},
   "source": [
    "I want to make the parent of the current directory the new current directory.\n",
    "- os.path.dirname() gets the parent directory\n",
    "- os.chir() defines the new current directory"
   ]
  },
  {
   "cell_type": "code",
   "execution_count": 7,
   "metadata": {},
   "outputs": [
    {
     "name": "stdout",
     "output_type": "stream",
     "text": [
      "You set a new current directory\n"
     ]
    }
   ],
   "source": [
    "os.chdir(os.path.dirname(current_dir))\n",
    "print(\"You set a new current directory\")"
   ]
  },
  {
   "cell_type": "markdown",
   "metadata": {},
   "source": [
    "Confirm the new current directory"
   ]
  },
  {
   "cell_type": "code",
   "execution_count": 8,
   "metadata": {},
   "outputs": [
    {
     "data": {
      "text/plain": [
       "'c:\\\\Users\\\\Grampers\\\\Desktop\\\\CO2Oracle'"
      ]
     },
     "execution_count": 8,
     "metadata": {},
     "output_type": "execute_result"
    }
   ],
   "source": [
    "current_dir = os.getcwd()\n",
    "current_dir"
   ]
  },
  {
   "cell_type": "markdown",
   "metadata": {},
   "source": [
    "# Fetch data from Kaggle"
   ]
  },
  {
   "cell_type": "markdown",
   "metadata": {},
   "source": [
    "Install Kaggle package to fetch data"
   ]
  },
  {
   "cell_type": "code",
   "execution_count": 9,
   "metadata": {},
   "outputs": [
    {
     "name": "stdout",
     "output_type": "stream",
     "text": [
      "Requirement already satisfied: kaggle in c:\\users\\grampers\\appdata\\local\\packages\\pythonsoftwarefoundation.python.3.11_qbz5n2kfra8p0\\localcache\\local-packages\\python311\\site-packages (1.6.17)\n",
      "Requirement already satisfied: six>=1.10 in c:\\users\\grampers\\appdata\\local\\packages\\pythonsoftwarefoundation.python.3.11_qbz5n2kfra8p0\\localcache\\local-packages\\python311\\site-packages (from kaggle) (1.16.0)\n",
      "Requirement already satisfied: certifi>=2023.7.22 in c:\\users\\grampers\\appdata\\local\\packages\\pythonsoftwarefoundation.python.3.11_qbz5n2kfra8p0\\localcache\\local-packages\\python311\\site-packages (from kaggle) (2024.2.2)\n",
      "Requirement already satisfied: python-dateutil in c:\\users\\grampers\\appdata\\local\\packages\\pythonsoftwarefoundation.python.3.11_qbz5n2kfra8p0\\localcache\\local-packages\\python311\\site-packages (from kaggle) (2.9.0.post0)\n",
      "Requirement already satisfied: requests in c:\\users\\grampers\\appdata\\local\\packages\\pythonsoftwarefoundation.python.3.11_qbz5n2kfra8p0\\localcache\\local-packages\\python311\\site-packages (from kaggle) (2.31.0)\n",
      "Requirement already satisfied: tqdm in c:\\users\\grampers\\appdata\\local\\packages\\pythonsoftwarefoundation.python.3.11_qbz5n2kfra8p0\\localcache\\local-packages\\python311\\site-packages (from kaggle) (4.66.4)\n",
      "Requirement already satisfied: python-slugify in c:\\users\\grampers\\appdata\\local\\packages\\pythonsoftwarefoundation.python.3.11_qbz5n2kfra8p0\\localcache\\local-packages\\python311\\site-packages (from kaggle) (8.0.4)\n",
      "Requirement already satisfied: urllib3 in c:\\users\\grampers\\appdata\\local\\packages\\pythonsoftwarefoundation.python.3.11_qbz5n2kfra8p0\\localcache\\local-packages\\python311\\site-packages (from kaggle) (2.2.1)\n",
      "Requirement already satisfied: bleach in c:\\users\\grampers\\appdata\\local\\packages\\pythonsoftwarefoundation.python.3.11_qbz5n2kfra8p0\\localcache\\local-packages\\python311\\site-packages (from kaggle) (6.1.0)\n",
      "Requirement already satisfied: webencodings in c:\\users\\grampers\\appdata\\local\\packages\\pythonsoftwarefoundation.python.3.11_qbz5n2kfra8p0\\localcache\\local-packages\\python311\\site-packages (from bleach->kaggle) (0.5.1)\n",
      "Requirement already satisfied: text-unidecode>=1.3 in c:\\users\\grampers\\appdata\\local\\packages\\pythonsoftwarefoundation.python.3.11_qbz5n2kfra8p0\\localcache\\local-packages\\python311\\site-packages (from python-slugify->kaggle) (1.3)\n",
      "Requirement already satisfied: charset-normalizer<4,>=2 in c:\\users\\grampers\\appdata\\local\\packages\\pythonsoftwarefoundation.python.3.11_qbz5n2kfra8p0\\localcache\\local-packages\\python311\\site-packages (from requests->kaggle) (3.3.2)\n",
      "Requirement already satisfied: idna<4,>=2.5 in c:\\users\\grampers\\appdata\\local\\packages\\pythonsoftwarefoundation.python.3.11_qbz5n2kfra8p0\\localcache\\local-packages\\python311\\site-packages (from requests->kaggle) (3.6)\n",
      "Requirement already satisfied: colorama in c:\\users\\grampers\\appdata\\local\\packages\\pythonsoftwarefoundation.python.3.11_qbz5n2kfra8p0\\localcache\\local-packages\\python311\\site-packages (from tqdm->kaggle) (0.4.6)\n",
      "Note: you may need to restart the kernel to use updated packages.\n"
     ]
    },
    {
     "name": "stderr",
     "output_type": "stream",
     "text": [
      "\n",
      "[notice] A new release of pip is available: 24.0 -> 24.2\n",
      "[notice] To update, run: C:\\Users\\Grampers\\AppData\\Local\\Microsoft\\WindowsApps\\PythonSoftwareFoundation.Python.3.11_qbz5n2kfra8p0\\python.exe -m pip install --upgrade pip\n"
     ]
    }
   ],
   "source": [
    "%pip install kaggle"
   ]
  },
  {
   "cell_type": "code",
   "execution_count": 13,
   "metadata": {},
   "outputs": [],
   "source": [
    "import os\n",
    "\n",
    "# Set the environment variable for the Kaggle API\n",
    "os.environ['KAGGLE_CONFIG_DIR'] = os.getcwd()"
   ]
  },
  {
   "cell_type": "code",
   "execution_count": 14,
   "metadata": {},
   "outputs": [
    {
     "name": "stdout",
     "output_type": "stream",
     "text": [
      "Dataset URL: https://www.kaggle.com/datasets/thedevastator/global-fossil-co2-emissions-by-country-2002-2022\n",
      "License(s): CC0-1.0\n",
      "global-fossil-co2-emissions-by-country-2002-2022.zip: Skipping, found more recently modified local copy (use --force to force download)\n"
     ]
    }
   ],
   "source": [
    "KaggleDatasetPath = \"thedevastator/global-fossil-co2-emissions-by-country-2002-2022\"\n",
    "DestinationFolder = \"inputs/datasets/raw\"   \n",
    "! kaggle datasets download -d {KaggleDatasetPath} -p {DestinationFolder}"
   ]
  },
  {
   "cell_type": "code",
   "execution_count": 18,
   "metadata": {},
   "outputs": [],
   "source": [
    "import os\n",
    "import zipfile\n",
    "\n",
    "# Define the destination folder\n",
    "destination_folder = 'inputs/datasets/raw'\n",
    "\n",
    "# Unzip all files in the destination folder\n",
    "for item in os.listdir(destination_folder):\n",
    "    if item.endswith('.zip'):  # Check for ZIP files\n",
    "        file_path = os.path.join(destination_folder, item)\n",
    "        with zipfile.ZipFile(file_path, 'r') as zip_ref:\n",
    "            zip_ref.extractall(destination_folder)  # Extract all contents\n",
    "        os.remove(file_path)  # Remove the ZIP file after extracting\n",
    "\n",
    "# Remove the kaggle.json file securely\n",
    "kaggle_json_path = os.path.join(os.getcwd(), 'kaggle.json')\n",
    "os.remove(kaggle_json_path)  # Remove the file"
   ]
  },
  {
   "cell_type": "markdown",
   "metadata": {},
   "source": [
    "## Load and Inspect Kaggle data"
   ]
  },
  {
   "cell_type": "markdown",
   "metadata": {},
   "source": [
    "- I removed the column named ISO 3166-1 alpha-3 from the DataFrame. The ISO 3166-1 alpha-3 column contains country codes which refer to another column called Country. To avoid redundancy, this column is removed. The inplace=True parameter ensures that the DataFrame df is modified directly, without needing to assign it back to df."
   ]
  },
  {
   "cell_type": "code",
   "execution_count": 19,
   "metadata": {},
   "outputs": [
    {
     "name": "stdout",
     "output_type": "stream",
     "text": [
      "        Country  Year  Total  Coal  Oil  Gas  Cement  Flaring  Other  \\\n",
      "0   Afghanistan  1750    0.0   NaN  NaN  NaN     NaN      NaN    NaN   \n",
      "1   Afghanistan  1751    0.0   NaN  NaN  NaN     NaN      NaN    NaN   \n",
      "2   Afghanistan  1752    0.0   NaN  NaN  NaN     NaN      NaN    NaN   \n",
      "3   Afghanistan  1753    0.0   NaN  NaN  NaN     NaN      NaN    NaN   \n",
      "4   Afghanistan  1754    0.0   NaN  NaN  NaN     NaN      NaN    NaN   \n",
      "..          ...   ...    ...   ...  ...  ...     ...      ...    ...   \n",
      "95  Afghanistan  1845    0.0   NaN  NaN  NaN     NaN      NaN    NaN   \n",
      "96  Afghanistan  1846    0.0   NaN  NaN  NaN     NaN      NaN    NaN   \n",
      "97  Afghanistan  1847    0.0   NaN  NaN  NaN     NaN      NaN    NaN   \n",
      "98  Afghanistan  1848    0.0   NaN  NaN  NaN     NaN      NaN    NaN   \n",
      "99  Afghanistan  1849    0.0   NaN  NaN  NaN     NaN      NaN    NaN   \n",
      "\n",
      "    Per Capita  \n",
      "0          NaN  \n",
      "1          NaN  \n",
      "2          NaN  \n",
      "3          NaN  \n",
      "4          NaN  \n",
      "..         ...  \n",
      "95         NaN  \n",
      "96         NaN  \n",
      "97         NaN  \n",
      "98         NaN  \n",
      "99         NaN  \n",
      "\n",
      "[100 rows x 10 columns]\n",
      "Country           0\n",
      "Year              0\n",
      "Total           200\n",
      "Coal          41360\n",
      "Oil           41387\n",
      "Gas           41486\n",
      "Cement        42290\n",
      "Flaring       41554\n",
      "Other         61484\n",
      "Per Capita    44130\n",
      "dtype: int64\n"
     ]
    }
   ],
   "source": [
    "import pandas as pd\n",
    "\n",
    "# Load the dataset\n",
    "df = pd.read_csv(\"inputs/datasets/raw/GCB2022v27_MtCO2_flat.csv\")\n",
    "\n",
    "# Drop the 'Code' column\n",
    "df.drop(columns=['ISO 3166-1 alpha-3'], inplace=True)\n",
    "\n",
    "\n",
    "# Display the DataFrame after imputation\n",
    "print(df.head(100))\n",
    "print(df.isnull().sum())  # Check for any remaining missing values\n",
    "\n",
    "\n",
    "\n",
    "\n",
    "\n",
    "\n"
   ]
  },
  {
   "cell_type": "markdown",
   "metadata": {},
   "source": [
    "DataFrame Summary"
   ]
  },
  {
   "cell_type": "code",
   "execution_count": 20,
   "metadata": {},
   "outputs": [
    {
     "name": "stdout",
     "output_type": "stream",
     "text": [
      "<class 'pandas.core.frame.DataFrame'>\n",
      "RangeIndex: 63104 entries, 0 to 63103\n",
      "Data columns (total 10 columns):\n",
      " #   Column      Non-Null Count  Dtype  \n",
      "---  ------      --------------  -----  \n",
      " 0   Country     63104 non-null  object \n",
      " 1   Year        63104 non-null  int64  \n",
      " 2   Total       62904 non-null  float64\n",
      " 3   Coal        21744 non-null  float64\n",
      " 4   Oil         21717 non-null  float64\n",
      " 5   Gas         21618 non-null  float64\n",
      " 6   Cement      20814 non-null  float64\n",
      " 7   Flaring     21550 non-null  float64\n",
      " 8   Other       1620 non-null   float64\n",
      " 9   Per Capita  18974 non-null  float64\n",
      "dtypes: float64(8), int64(1), object(1)\n",
      "memory usage: 4.8+ MB\n"
     ]
    }
   ],
   "source": [
    "df.info()"
   ]
  },
  {
   "cell_type": "markdown",
   "metadata": {},
   "source": [
    "## Push file to Repo"
   ]
  },
  {
   "cell_type": "code",
   "execution_count": 21,
   "metadata": {},
   "outputs": [],
   "source": [
    "import os\n",
    "try:\n",
    "  os.makedirs(name='outputs/datasets/collection') # create outputs/datasets/collection folder\n",
    "except Exception as e:\n",
    "  print(e)\n",
    "\n",
    "df.to_csv(f\"outputs/datasets/collection/Co2Emissions.csv\",index=False)"
   ]
  }
 ],
 "metadata": {
  "kernelspec": {
   "display_name": "Python 3",
   "language": "python",
   "name": "python3"
  },
  "language_info": {
   "codemirror_mode": {
    "name": "ipython",
    "version": 3
   },
   "file_extension": ".py",
   "mimetype": "text/x-python",
   "name": "python",
   "nbconvert_exporter": "python",
   "pygments_lexer": "ipython3",
   "version": "3.11.9"
  }
 },
 "nbformat": 4,
 "nbformat_minor": 2
}
